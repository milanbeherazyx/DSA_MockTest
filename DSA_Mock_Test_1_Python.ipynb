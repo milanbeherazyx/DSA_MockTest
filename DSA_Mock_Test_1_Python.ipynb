{
  "nbformat": 4,
  "nbformat_minor": 0,
  "metadata": {
    "colab": {
      "provenance": []
    },
    "kernelspec": {
      "name": "python3",
      "display_name": "Python 3"
    },
    "language_info": {
      "name": "python"
    }
  },
  "cells": [
    {
      "cell_type": "markdown",
      "source": [
        "Move Zeroes\n",
        "Given an integer array nums, move all 0's to the end of it while maintaining the relative order of the non-zero elements.\n",
        "\n",
        "Note that you must do this in-place without making a copy of the array.\n",
        "\n",
        "Example 1:\n",
        "Input: nums = [0,1,0,3,12]\n",
        "Output: [1,3,12,0,0]\n",
        "\n",
        "Example 2:\n",
        "Input: nums = [0]\n",
        "Output: [0]\n",
        "\n",
        "Constraints:\n",
        "a. 1 <= nums.length <= 10^4\n",
        "b. -2^31 <= nums[i] <= 2^31 - 1"
      ],
      "metadata": {
        "id": "qCprwRYwp9Km"
      }
    },
    {
      "cell_type": "code",
      "source": [
        "class Solution(object):\n",
        "    def moveZeroes(self, nums):\n",
        "        left = 0\n",
        "        right = 0\n",
        "\n",
        "        while right < len(nums):\n",
        "            if nums[right] != 0:\n",
        "                nums[left], nums[right] = nums[right], nums[left]\n",
        "                left += 1\n",
        "            right += 1\n",
        "\n",
        "\n",
        "nums = [0, 1, 0, 3, 12]\n",
        "solution = Solution()\n",
        "solution.moveZeroes(nums)\n",
        "print(nums)\n",
        "\n"
      ],
      "metadata": {
        "colab": {
          "base_uri": "https://localhost:8080/"
        },
        "id": "e_wVJTvHp_n7",
        "outputId": "7bee2f90-2208-4140-f194-98edf15cebcc"
      },
      "execution_count": 2,
      "outputs": [
        {
          "output_type": "stream",
          "name": "stdout",
          "text": [
            "[1, 3, 12, 0, 0]\n"
          ]
        }
      ]
    },
    {
      "cell_type": "markdown",
      "source": [
        "First Unique Character in a String\n",
        "\n",
        "Given a string s, find the first non-repeating character in it and return its index. If it does not exist, return -1.\n",
        "\n",
        "Example 1:\n",
        "Input: s = \"leetcode\"\n",
        "Output: 0\n",
        "\n",
        "Example 2:\n",
        "Input: s = \"loveleetcode\"\n",
        "Output: 2\n",
        "\n",
        "Example 3:\n",
        "Input: s = \"aabb\"\n",
        "Output: -1\n",
        "\n",
        "Constraints:\n",
        "a. 1 <= s.length <= 10^5\n",
        "b. s consists of only lowercase English letters."
      ],
      "metadata": {
        "id": "T262YAr_qZDC"
      }
    },
    {
      "cell_type": "code",
      "source": [
        "class Solution(object):\n",
        "    def firstUniqChar(self, s):\n",
        "        char_count = {}\n",
        "\n",
        "        # Count the occurrences of each character\n",
        "        for char in s:\n",
        "            if char in char_count:\n",
        "                char_count[char] += 1\n",
        "            else:\n",
        "                char_count[char] = 1\n",
        "\n",
        "        # Find the first non-repeating character\n",
        "        for i in range(len(s)):\n",
        "            if char_count[s[i]] == 1:\n",
        "                return i\n",
        "\n",
        "        # No non-repeating character found\n",
        "        return -1\n",
        "\n",
        "\n",
        "\n",
        "s = \"leetcode\"\n",
        "solution = Solution()\n",
        "print(solution.firstUniqChar(s))\n"
      ],
      "metadata": {
        "colab": {
          "base_uri": "https://localhost:8080/"
        },
        "id": "XnsuNe-3qaJm",
        "outputId": "38cc5a93-a550-4a77-8dbf-c7ca30f64c68"
      },
      "execution_count": 4,
      "outputs": [
        {
          "output_type": "stream",
          "name": "stdout",
          "text": [
            "0\n"
          ]
        }
      ]
    },
    {
      "cell_type": "code",
      "source": [],
      "metadata": {
        "id": "7y72bAb_q9RK"
      },
      "execution_count": null,
      "outputs": []
    }
  ]
}